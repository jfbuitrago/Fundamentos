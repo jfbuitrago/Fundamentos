{
  "nbformat": 4,
  "nbformat_minor": 0,
  "metadata": {
    "colab": {
      "provenance": [],
      "include_colab_link": true
    },
    "kernelspec": {
      "name": "python3",
      "display_name": "Python 3"
    },
    "language_info": {
      "name": "python"
    }
  },
  "cells": [
    {
      "cell_type": "markdown",
      "metadata": {
        "id": "view-in-github",
        "colab_type": "text"
      },
      "source": [
        "<a href=\"https://colab.research.google.com/github/jfbuitrago/Fundamentos/blob/main/objetos.ipynb\" target=\"_parent\"><img src=\"https://colab.research.google.com/assets/colab-badge.svg\" alt=\"Open In Colab\"/></a>"
      ]
    },
    {
      "cell_type": "code",
      "execution_count": null,
      "metadata": {
        "id": "IX6g8_D5t7nQ"
      },
      "outputs": [],
      "source": [
        "class coche():\n",
        "# atributos\n",
        "  ruedas = 4\n",
        "  cilindraje =1000\n",
        "  puertas = 3\n",
        "  combustible = \"gasolina\"\n",
        "# metodo\n",
        "  def desplazamiento(self):\n",
        "    print(\"El coche se esta desplazando sobre 4 ruedas\")\n",
        "\n",
        "# Programa principal\n",
        "# Generar una isntacia de la clase - instanciar un objeto - declarar un objeto\n",
        "miVehiculo=coche()\n",
        "obj_miCarrito=coche()\n",
        "\n",
        "# acceso al atributo\n",
        "print(\"mi coche tiene\",miVehiculo.ruedas,\"Ruedas\")\n",
        "print(\"mi coche tiene\",miVehiculo.cilindraje,\"Cm3 de cilindeaje\")\n",
        "print(\"mi coche tiene\",miVehiculo.puertas,\"puertas\")\n",
        "print(\"mi coche tiene\",miVehiculo.combustible,\"de combustible\")\n",
        "# forma que un objeto solicita que se ejecute un metodo\n",
        "miVehiculo.desplazamiento()\n",
        "obj_miCarrito.desplazamiento()\n",
        "\n"
      ]
    },
    {
      "cell_type": "code",
      "source": [
        "class coche():\n",
        "  ruedas = 4\n",
        "  def desplazamiento(self):\n",
        "    print(\"el coche se esta desplazando sobre 4 ruedas\")\n",
        "class moto():\n",
        "  ruedas = 2 \n",
        "  def desaplazamiento(self):\n",
        "    print(\"la moto se esta desplazando sebre 2 ruedas\")\n",
        "print(\"------------Primer Objeto------------\")\n",
        "miVehiculo = coche()\n",
        "print(\"mi coche tiene \",miVehiculo.ruedas,\"ruedas\")\n",
        "miVehiculo.desplazamiento()\n",
        "print(\"------------Segundo Objeto------------\")\n",
        "miVehiculo2 = moto()\n",
        "print(\"mi moto tiene \",miVehiculo2.ruedas,\"ruedas\")\n",
        "miVehiculo2.desaplazamiento()"
      ],
      "metadata": {
        "id": "9OIuvH_E03bX"
      },
      "execution_count": null,
      "outputs": []
    },
    {
      "cell_type": "code",
      "source": [
        "# constructor \n",
        "class cachorro():\n",
        "\n",
        "#Metodo constructor\n",
        "  def __init__(self,p_color,p_raza):\n",
        "    self.color=p_color\n",
        "    self.raza=p_raza\n",
        "    \n",
        "perrito = cachorro(\"marron claro\", \"Golden retriever\")\n",
        "obj_perritoDeVicky = cachorro(\"blanco\", \"shitzu\")\n",
        "obj_perritoDelBrayan = cachorro(\"Negro\",\"sin definir\")\n",
        "\n",
        "print(\"Este es un cachorro sin dueño de la raza {} y es de color {}\".format(perrito.raza, perrito.color))\n",
        "print(\"Este es el cachorro de Vicky de la raza {} y es de color {}\".format(obj_perritoDeVicky.raza, obj_perritoDeVicky.color))\n",
        "print(\"Este es el cachorro del Brayan de la raza {} y es de color {}\".format(obj_perritoDelBrayan.raza, obj_perritoDelBrayan.color))"
      ],
      "metadata": {
        "colab": {
          "base_uri": "https://localhost:8080/"
        },
        "id": "qggPXZd524cQ",
        "outputId": "84007b82-c69b-4da2-d899-cf3c48f51735"
      },
      "execution_count": null,
      "outputs": [
        {
          "output_type": "stream",
          "name": "stdout",
          "text": [
            "Este es un cachorro sin dueño de la raza Golden retriever y es de color marron claro\n",
            "Este es el cachorro de Vicky de la raza shitzu y es de color blanco\n",
            "Este es el cachorro del Brayan de la raza sin definir y es de color Negro\n"
          ]
        }
      ]
    },
    {
      "cell_type": "code",
      "source": [
        "#constructor\n",
        "class Cachorro():\n",
        "#metodo constructor \n",
        "  def __init__(self,p_color,p_raza,P_nombre):\n",
        "    self.color = p_color\n",
        "    self.raza = p_raza\n",
        "    self.nombre = p_nombre\n",
        "  \n",
        "#modulo principal\n",
        "p_color = input(\"color : \")\n",
        "p_raza = input(\"raza : \")\n",
        "p_nombre = input(\"nombre : \")\n",
        "\n",
        "perrito = Cachorro(p_color,p_raza,p_nombre)\n",
        "print(\"este es un cachorro sin dueño y la raza es {} y es de color {} y se llama {} \".format(perrito.raza,perrito.color,perrito.nombre))"
      ],
      "metadata": {
        "id": "f-u0FYLanjYu"
      },
      "execution_count": null,
      "outputs": []
    },
    {
      "cell_type": "code",
      "source": [
        "from IPython.core.display import Math\n",
        "class C_rectangulo:\n",
        "  def __init__(self,p_ancho,p_alto):\n",
        "    self.at_ancho=p_ancho\n",
        "    self.at_alto=p_alto\n",
        "\n",
        "  def m_area(self):\n",
        "    area=self.at_alto*self.at_ancho\n",
        "    return area\n",
        "\n",
        "  def m_perimetro(self):\n",
        "    perimetro=(self.at_alto*2)+(self.at_ancho*2)\n",
        "    return perimetro\n",
        "  \n",
        "  def m_diagonal(self):\n",
        "     diagonal=Math.sqrt\n",
        "r1=C_rectangulo(4,2)\n",
        "area=r1.m_area()\n",
        "perimetro=r1.m_perimetro()\n",
        "print(\"El area es : \",area)\n",
        "print(\"El perimetro es : \",perimetro)\n",
        "\n",
        "p_ancho = int(input(\"Ancho : \"))\n",
        "p_alto = int(input(\"Alto : \"))\n",
        "\n",
        "obj_rec2=(C_rectangulo(p_ancho,p_alto))\n",
        "\n",
        "print(\"El area es : \",+obj_rec2.m_area())\n",
        "print(\"El perimetro es : \",+obj_rec2.m_perimetro())"
      ],
      "metadata": {
        "id": "DqR4zyzXrPf1"
      },
      "execution_count": null,
      "outputs": []
    },
    {
      "cell_type": "code",
      "source": [
        " "
      ],
      "metadata": {
        "id": "X9fNaFCDzMxW"
      },
      "execution_count": null,
      "outputs": []
    }
  ]
}