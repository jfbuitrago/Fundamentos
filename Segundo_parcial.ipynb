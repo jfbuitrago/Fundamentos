{
  "nbformat": 4,
  "nbformat_minor": 0,
  "metadata": {
    "colab": {
      "provenance": [],
      "include_colab_link": true
    },
    "kernelspec": {
      "name": "python3",
      "display_name": "Python 3"
    },
    "language_info": {
      "name": "python"
    }
  },
  "cells": [
    {
      "cell_type": "markdown",
      "metadata": {
        "id": "view-in-github",
        "colab_type": "text"
      },
      "source": [
        "<a href=\"https://colab.research.google.com/github/jfbuitrago/Fundamentos/blob/main/Segundo_parcial.ipynb\" target=\"_parent\"><img src=\"https://colab.research.google.com/assets/colab-badge.svg\" alt=\"Open In Colab\"/></a>"
      ]
    },
    {
      "cell_type": "code",
      "execution_count": null,
      "metadata": {
        "id": "fSxy13b_lhg0"
      },
      "outputs": [],
      "source": [
        "#Integrantes Segundo parcial \n",
        "#Jaime Andres Aguirre Grajales \n",
        "#Alejandro Lopez Quiceno\n",
        "#Juan Fellipe Buitrago"
      ]
    },
    {
      "cell_type": "code",
      "source": [
        "#Primer Ejercicio recibe parametro y retorna valor N°5\n",
        "def cant_numeros_primos(num):\n",
        "    cuenta=0\n",
        "    while num>0:\n",
        "        ultimo_digito=num%10\n",
        "        num=num//10\n",
        "        if ultimo_digito==2 or ultimo_digito==3 or ultimo_digito==5 or ultimo_digito==7:\n",
        "            cuenta += 1\n",
        "    return cuenta          \n",
        "num=int(input(\"Ingrese el numero : \"))\n",
        "print(\"La cantidad de numeros primos es : \",cant_numeros_primos(num))"
      ],
      "metadata": {
        "colab": {
          "base_uri": "https://localhost:8080/"
        },
        "id": "_fS7A8UYmvNI",
        "outputId": "7bc04264-ad26-4d08-f90e-d48ce9fd8707"
      },
      "execution_count": null,
      "outputs": [
        {
          "output_type": "stream",
          "name": "stdout",
          "text": [
            "Ingrese el numero : 23\n",
            "La cantidad de numeros primos es :  2\n"
          ]
        }
      ]
    },
    {
      "cell_type": "code",
      "source": [
        "#Primer Ejercicio no recibe parametro y retorna valor N°5\n",
        "def cant_numeros_primos():\n",
        "    cuenta=0\n",
        "    num=int(input(\"ingrese numero :\"))\n",
        "    while num>0:\n",
        "        ultimo_digito=num%10\n",
        "        num=num//10\n",
        "        if ultimo_digito==2 or ultimo_digito==3 or ultimo_digito==5 or ultimo_digito==7:\n",
        "            cuenta += 1\n",
        "    return cuenta          \n",
        "\n",
        "print(\"La cantidad de números primos es:\",cant_numeros_primos())"
      ],
      "metadata": {
        "id": "uK058c_9py0h"
      },
      "execution_count": null,
      "outputs": []
    },
    {
      "cell_type": "code",
      "source": [
        "#Primer Ejercicio recibe parametro y no retorna valor N°5\n",
        "def cant_numeros_primos(num):\n",
        "    cuenta=0\n",
        "    while num>0:\n",
        "        ultimo_digito=num%10\n",
        "        num=num//10\n",
        "        if ultimo_digito==2 or ultimo_digito==3 or ultimo_digito==5 or ultimo_digito==7:\n",
        "            cuenta += 1\n",
        "        print(\"La cantidad de números primos es:\",cuenta)   \n",
        "num=int(input(\"ingrese numero :\"))       \n",
        "cant_numeros_primos(num)\n",
        "                                                            "
      ],
      "metadata": {
        "colab": {
          "base_uri": "https://localhost:8080/"
        },
        "id": "UGa9ShdcqdbI",
        "outputId": "d720954f-98d9-4a03-beae-1ad48da08c40"
      },
      "execution_count": null,
      "outputs": [
        {
          "output_type": "stream",
          "name": "stdout",
          "text": [
            "ingrese numero :23\n",
            "La cantidad de números primos es: 1\n",
            "La cantidad de números primos es: 2\n"
          ]
        }
      ]
    },
    {
      "cell_type": "code",
      "source": [
        "#Primer Ejercicio no recibe parametro y no retorna valor N°5\n",
        "def cant_numeros_primos():\n",
        "    num=int(input(\"ingrese numero :\"))\n",
        "    cuenta=0\n",
        "    while num>0:\n",
        "        ultimo_digito=num%10\n",
        "        num=num//10\n",
        "        if ultimo_digito==2 or ultimo_digito==3 or ultimo_digito==5 or ultimo_digito==7:\n",
        "            cuenta += 1\n",
        "    print(\"La cantidad de números primos es:\",cuenta)\n",
        "cant_numeros_primos()"
      ],
      "metadata": {
        "colab": {
          "base_uri": "https://localhost:8080/"
        },
        "id": "uWKxlNs1u7r5",
        "outputId": "0062edd4-dca0-4e3d-a6b8-868f95c46088"
      },
      "execution_count": null,
      "outputs": [
        {
          "output_type": "stream",
          "name": "stdout",
          "text": [
            "ingrese numero :23\n",
            "La cantidad de números primos es: 2\n"
          ]
        }
      ]
    },
    {
      "cell_type": "code",
      "source": [
        "#Segundo Ejercicio recibe parametro y retorna valor N°15\n",
        "def multiplo_num(num1,num2):\n",
        "    var1=num1%num2\n",
        "    if var1==0:\n",
        "        return 1\n",
        "    else:\n",
        "        return 0\n",
        "print(\"Si es 1 es multiplo si no es 0\")   \n",
        "num1=int(input(\"Ingrese numero 1 : \"))\n",
        "num2=int(input(\"Ingrese numer 2 : \"))\n",
        "\n",
        "print(multiplo_num(num1,num2))"
      ],
      "metadata": {
        "colab": {
          "base_uri": "https://localhost:8080/"
        },
        "id": "acPYLD-ew1Gw",
        "outputId": "f3fd0512-5cb0-442b-b7bf-8c0ac0a737ca"
      },
      "execution_count": null,
      "outputs": [
        {
          "output_type": "stream",
          "name": "stdout",
          "text": [
            "Si es 1 es multiplo si no es 0\n",
            "Ingrese numero 1 : 4\n",
            "Ingrese numer 2 : 2\n",
            "1\n"
          ]
        }
      ]
    },
    {
      "cell_type": "code",
      "source": [
        "#Segundo Ejercicio no recibe parametro y  retorna valor N°15\n",
        "def multiplo_num():\n",
        "  num1=int(input(\"Ingrese numero 1= \"))\n",
        "  num2=int(input(\"Ingrese numer 2= \"))\n",
        "  var1=num1%num2\n",
        "  if var1==0:\n",
        "        return 1\n",
        "  else:\n",
        "        return 0\n",
        "\n",
        "print(\"Si es 1 es multiplo si no es 0\")\n",
        "print(multiplo_num())"
      ],
      "metadata": {
        "id": "CvGaDFbv4HEY"
      },
      "execution_count": null,
      "outputs": []
    },
    {
      "cell_type": "code",
      "source": [
        "#Segundo Ejercicio recibe parametro y no retorna valor N°15\n",
        "def multiplo_num(num1,num2):\n",
        " \n",
        "  var1=num1%num2\n",
        "  if var1==0:\n",
        "    print(\"es multiplo : \", 1)\n",
        "  else:\n",
        "    print(\"no es multiplo : \", 0)\n",
        "print(\"Si es 1 es multiplo si no es 0\")\n",
        "num1=int(input(\"Ingrese numero 1= \"))\n",
        "num2=int(input(\"Ingrese numero 2= \"))\n",
        "print(multiplo_num(num1,num2))\n"
      ],
      "metadata": {
        "colab": {
          "base_uri": "https://localhost:8080/"
        },
        "id": "BYGTBFK-5iBo",
        "outputId": "51196dc5-e7a5-4ba6-fe5d-74c7b5f6f7ed"
      },
      "execution_count": null,
      "outputs": [
        {
          "output_type": "stream",
          "name": "stdout",
          "text": [
            "Si es 1 es multiplo si no es 0\n",
            "Ingrese numero 1= 4\n",
            "Ingrese numero 2= 2\n",
            "es multiplo :  1\n",
            "None\n"
          ]
        }
      ]
    },
    {
      "cell_type": "code",
      "source": [
        "#Segundo Ejercicio no recibe parametro y no retorna valor N°15\n",
        "def multiplo_num():\n",
        "  num1=int(input(\"Ingrese numero 1= \"))\n",
        "  num2=int(input(\"Ingrese numer 2= \"))\n",
        "  var1=num1%num2\n",
        "  if var1==0:\n",
        "         print(\"es multiplo : \", 1)\n",
        "  else:\n",
        "         print(\"no es multiplo : \", 0)\n",
        " \n",
        " \n",
        "print(multiplo_num())                "
      ],
      "metadata": {
        "id": "w_Rzy1Sl8Nt0"
      },
      "execution_count": null,
      "outputs": []
    },
    {
      "cell_type": "code",
      "source": [
        "#tercer Ejercicio recibe parametro y retorna valor N°25\n",
        "def retonar_num(num1,num2):\n",
        "    var1=10**(num2-1)\n",
        "    var2=10**(5-(num2))\n",
        "    res=num1//var1\n",
        "    res2=res//var2\n",
        "    return res2\n",
        "num1=int(input(\"Ingrese el numero : \"))\n",
        "num2=int(input(\"Ingrese un numero menor a 5 : \"))\n",
        "print(\"El numero de la posicion : \",num2,\" es igual : \",retonar_num(num1,num2))"
      ],
      "metadata": {
        "id": "m5QQSn_W8tFB"
      },
      "execution_count": null,
      "outputs": []
    },
    {
      "cell_type": "code",
      "source": [
        "#Tercer Ejercicio no recibe parametro y  retorna valor N°25\n",
        "def retonar_num():\n",
        "    var1=10**(num2-1)\n",
        "    var2=10**(5-(num2))\n",
        "    res=num1//var1\n",
        "    res2=res//var2\n",
        "    return res2\n",
        "num1=int(input(\"Ingrese el numero : \"))\n",
        "num2=int(input(\"Ingrese un numero menor a 5 : \"))\n",
        "print(\"El numero de la posicion : \",num2,\" es igual : \",retonar_num()+1)"
      ],
      "metadata": {
        "colab": {
          "base_uri": "https://localhost:8080/"
        },
        "id": "hvfGBr46cXPZ",
        "outputId": "84a50069-54f3-4b2c-fc3c-80b5c16f36b3"
      },
      "execution_count": null,
      "outputs": [
        {
          "output_type": "stream",
          "name": "stdout",
          "text": [
            "Ingrese el numero : 234\n",
            "Ingrese un numero menor a 5 : 2\n",
            "El numero de la posicion :  2  es igual :  1\n"
          ]
        }
      ]
    },
    {
      "cell_type": "code",
      "source": [
        "#Tercer Ejercicio recibe parametro y no retorna valor N°25\n",
        "def pos_Dig(num1,dig):\n",
        "  cont = 0\n",
        "  if num1>0 and cont<=dig-5:\n",
        "    num1 = num1/10\n",
        "    cont = cont+1\n",
        "\n",
        "Ndig= num1 % 10\n",
        "\n",
        "num1=int(input(\"Ingrese el número: \"))\n",
        "dig = int(input(\"Ingrese un número menor a 5: \"))\n",
        "print(\"El número de la posición\",dig,\"es igual a\",Ndig)\n"
      ],
      "metadata": {
        "colab": {
          "base_uri": "https://localhost:8080/"
        },
        "id": "42onMo-qe1dW",
        "outputId": "c9cfb65c-8ce3-41c8-f475-91310c22d9eb"
      },
      "execution_count": null,
      "outputs": [
        {
          "output_type": "stream",
          "name": "stdout",
          "text": [
            "Ingrese el número: 234\n",
            "Ingrese un número menor a 5: 1\n",
            "El número de la posición 1 es igual a 4\n"
          ]
        }
      ]
    },
    {
      "cell_type": "code",
      "source": [
        "#Tercer Ejercicio no recibe parametro y no retorna valor N°25\n",
        "def pos_Dig():\n",
        "  cont = 0\n",
        "  if num1>0 and cont<=dig-5:\n",
        "    num1 = num1/10\n",
        "    cont = cont+1\n",
        "\n",
        "Ndig= num1 % 10\n",
        "\n",
        "num1=int(input(\"Ingrese el número: \"))\n",
        "dig = int(input(\"Ingrese un número menor a 5: \"))\n",
        "print(\"El número de la posición\",dig,\"es igual a\",Ndig) "
      ],
      "metadata": {
        "id": "FhiH7N090wod"
      },
      "execution_count": null,
      "outputs": []
    }
  ]
}