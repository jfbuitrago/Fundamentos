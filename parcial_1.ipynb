{
  "nbformat": 4,
  "nbformat_minor": 0,
  "metadata": {
    "colab": {
      "provenance": [],
      "authorship_tag": "ABX9TyNtDtwlXcLTqUCTsSI7eMHm",
      "include_colab_link": true
    },
    "kernelspec": {
      "name": "python3",
      "display_name": "Python 3"
    },
    "language_info": {
      "name": "python"
    }
  },
  "cells": [
    {
      "cell_type": "markdown",
      "metadata": {
        "id": "view-in-github",
        "colab_type": "text"
      },
      "source": [
        "<a href=\"https://colab.research.google.com/github/jfbuitrago/Fundamentos/blob/main/parcial_1.ipynb\" target=\"_parent\"><img src=\"https://colab.research.google.com/assets/colab-badge.svg\" alt=\"Open In Colab\"/></a>"
      ]
    },
    {
      "cell_type": "code",
      "execution_count": null,
      "metadata": {
        "id": "76l2fCJ5QB0l",
        "colab": {
          "base_uri": "https://localhost:8080/"
        },
        "outputId": "17c92212-c287-4a41-e0a5-98e80e5a4aa3"
      },
      "outputs": [
        {
          "output_type": "stream",
          "name": "stdout",
          "text": [
            "ingrese hasta que termino desea 0btener :6\n",
            "0\n",
            "1\n",
            "1\n",
            "2\n",
            "3\n",
            "5\n",
            "8\n"
          ]
        }
      ],
      "source": [
        "n=int(input(\"ingrese hasta que termino desea 0btener :\"))\n",
        "def fibonacci_iter(n):\n",
        "    a=1\n",
        "    b=1\n",
        "    if n==1:\n",
        "        print('0')\n",
        "    elif n==2:\n",
        "        print('0','1')\n",
        "    else:\n",
        "        print('0')\n",
        "        print(a)\n",
        "        print(b)\n",
        "        for i in range(n+1-3):\n",
        "            total = a + b\n",
        "            b=a\n",
        "            a= total\n",
        "            print(total)\n",
        "         \n",
        "fibonacci_iter(n)"
      ]
    },
    {
      "cell_type": "code",
      "source": [
        "n=int(input(\"ingrese cuantos numeros desea obtener :\"))\n",
        "def fibonacci(num):\n",
        "    arr = [0,1]\n",
        "    if num==1:\n",
        "        print('0')\n",
        "    elif num==2:\n",
        "        print('[0,','1]')\n",
        "    else:\n",
        "        while(len(arr)<num):\n",
        "            arr.append(0)\n",
        "        if(num==0 or num==1):\n",
        "            return 1\n",
        "        else:\n",
        "            arr[0]=0\n",
        "            arr[1]=1\n",
        "            for i in range(2,num):\n",
        "                arr[i]=arr[i-1]+arr[i-2]\n",
        "            print(arr)\n",
        "\n",
        "fibonacci(n)"
      ],
      "metadata": {
        "colab": {
          "base_uri": "https://localhost:8080/"
        },
        "id": "MANb2airewxe",
        "outputId": "c4b9dbf4-f21a-4009-ac21-bcad98b55124"
      },
      "execution_count": null,
      "outputs": [
        {
          "output_type": "stream",
          "name": "stdout",
          "text": [
            "ingrese cuantos numeros desea obtener :69\n",
            "[0, 1, 1, 2, 3, 5, 8, 13, 21, 34, 55, 89, 144, 233, 377, 610, 987, 1597, 2584, 4181, 6765, 10946, 17711, 28657, 46368, 75025, 121393, 196418, 317811, 514229, 832040, 1346269, 2178309, 3524578, 5702887, 9227465, 14930352, 24157817, 39088169, 63245986, 102334155, 165580141, 267914296, 433494437, 701408733, 1134903170, 1836311903, 2971215073, 4807526976, 7778742049, 12586269025, 20365011074, 32951280099, 53316291173, 86267571272, 139583862445, 225851433717, 365435296162, 591286729879, 956722026041, 1548008755920, 2504730781961, 4052739537881, 6557470319842, 10610209857723, 17167680177565, 27777890035288, 44945570212853, 72723460248141]\n"
          ]
        }
      ]
    },
    {
      "cell_type": "code",
      "source": [
        "m=int(input(\"ingrese el primer número : \"))\n",
        "def factorial(n):\n",
        "  vlr_factorial=1\n",
        "  el_contador=0\n",
        "  while el_contador<n:\n",
        "    vlr_factorial=vlr_factorial*(el_contador+1)\n",
        "    el_contador=el_contador+1\n",
        "  return vlr_factorial\n",
        "n=int(input(\"ingrese el segundo número:\"))\n",
        "res=m-n\n",
        "m=factorial(m)\n",
        "n=factorial(n)\n",
        "resta=factorial(res)\n",
        "resultado=m/(n*resta)\n",
        "print(\"el resultado de la combinación de estos dos números es : \",str(resultado))\n",
        "\n",
        "\n"
      ],
      "metadata": {
        "colab": {
          "base_uri": "https://localhost:8080/"
        },
        "id": "Xe3aXxzkYXKC",
        "outputId": "9f3f964a-a2a5-4be6-9558-1e5323338b46"
      },
      "execution_count": null,
      "outputs": [
        {
          "output_type": "stream",
          "name": "stdout",
          "text": [
            "ingrese el primer número : 10\n",
            "ingrese el segundo número:4\n",
            "el resultado de la combinación de estos dos números es :  210.0\n"
          ]
        }
      ]
    },
    {
      "cell_type": "markdown",
      "source": [],
      "metadata": {
        "id": "Lx30A9uFvErJ"
      }
    },
    {
      "cell_type": "code",
      "source": [
        "n=int(input(\"ingrese el valor del numero\"))\n",
        "if n==5:\n",
        "  contador=0\n",
        "  for i in range(n):\n",
        "      m=i+1\n",
        "      n=m+1\n",
        "      contador=contador+(m*n)\n",
        "print(contador)\n",
        " elif  m==3:\n",
        "  resultado=0\n",
        "  for i in range (n):\n",
        "    resultado=resultado+(pow(2,i))\n",
        " print(resultado)\n",
        " elif n==100:\n",
        "   sumatoria=0\n",
        "   i +=1\n",
        "    for i in range (n):\n",
        "       sumatoria= 4(sumatoria+i )\n",
        " else:\n",
        "   print(\"numero invalido\")"
      ],
      "metadata": {
        "colab": {
          "base_uri": "https://localhost:8080/",
          "height": 130
        },
        "id": "ljbN1RBRkpL_",
        "outputId": "7db2152c-c1d2-4a8b-b70c-92c70f9af61e"
      },
      "execution_count": null,
      "outputs": [
        {
          "output_type": "error",
          "ename": "IndentationError",
          "evalue": "ignored",
          "traceback": [
            "\u001b[0;36m  File \u001b[0;32m\"<tokenize>\"\u001b[0;36m, line \u001b[0;32m11\u001b[0m\n\u001b[0;31m    for i in range (n):\u001b[0m\n\u001b[0m    ^\u001b[0m\n\u001b[0;31mIndentationError\u001b[0m\u001b[0;31m:\u001b[0m unindent does not match any outer indentation level\n"
          ]
        }
      ]
    }
  ]
}